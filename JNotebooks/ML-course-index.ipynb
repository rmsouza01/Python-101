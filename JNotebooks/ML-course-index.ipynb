{
 "cells": [
  {
   "cell_type": "markdown",
   "metadata": {},
   "source": [
    "# Machine Learning 101 Course\n",
    "\n",
    "The proposal of this material is to give an introduction to machine learning with emphasis on deep learning using Python 3, Tensorflow 2.0 + Keras.\n",
    "\n",
    "\n",
    "\n",
    "- **Tutorial 00**: [Installing a Virtual Environment](install_venv.ipynb) - Not available. Under construction.\n",
    "- **Tutorial 01**: [Introduction to Python](tutorial01-python.ipynb)\n",
    "- **Tutorial 02** [Introduction to NumPy](tutorial02-numpy.ipynb)\n",
    "- **Tutorial 03**: [Overfitting and Regularization](tutorial03-overfitting_regularization.ipynb)\n",
    "- **Tutorial 04** [One-layer Fully Connected Neural Network - classification](tutorial04_one_layer_neural_network.ipynb)\n",
    "- **Tutorial 05**: [Multi-layer Fully Connected Neural Network - classification](tutorial05_multi_layer_neural_network.ipynb)\n",
    "- **Tutorial 06**: [Convolutional Neural Network - classification](tutorial06_magnetic_field_scanner_vendor_classification.ipynb)\n",
    "- **Tutorial 07**: [Fully Convolutional Neural Network - regression](tutorial07_fully_convolutional_neural_network.ipynb)"
   ]
  }
 ],
 "metadata": {
  "kernelspec": {
   "display_name": "Python 3",
   "language": "python",
   "name": "python3"
  },
  "language_info": {
   "codemirror_mode": {
    "name": "ipython",
    "version": 3
   },
   "file_extension": ".py",
   "mimetype": "text/x-python",
   "name": "python",
   "nbconvert_exporter": "python",
   "pygments_lexer": "ipython3",
   "version": "3.6.9"
  }
 },
 "nbformat": 4,
 "nbformat_minor": 2
}
